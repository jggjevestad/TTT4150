{
 "cells": [
  {
   "cell_type": "code",
   "execution_count": 1,
   "id": "c116bafa-91b2-4c86-ae33-df3ec3d69bf7",
   "metadata": {},
   "outputs": [
    {
     "name": "stdout",
     "output_type": "stream",
     "text": [
      "lat: 63.415410119444 deg, lon: 10.405679261111 deg\n"
     ]
    }
   ],
   "source": [
    "from lib.navlib import dms2deg, deg2dms, dms2rad, rad2deg, geod2ECEF, ECEF2geod\n",
    "\n",
    "lat = [63, 24, 55.47643]\n",
    "lon = [10, 24, 20.44534]\n",
    "\n",
    "print(\"lat: {:15.12f} deg, lon: {:15.12f} deg\".format(dms2deg(lat), dms2deg(lon)))"
   ]
  },
  {
   "cell_type": "code",
   "execution_count": 2,
   "id": "8d73b216-7cf1-4f96-9ba5-e7f8da1041b5",
   "metadata": {},
   "outputs": [
    {
     "name": "stdout",
     "output_type": "stream",
     "text": [
      "63.415410119444445 10.40567926111111\n"
     ]
    }
   ],
   "source": [
    "lat = dms2deg(lat)\n",
    "lon = dms2deg(lon)\n",
    "print(lat, lon)"
   ]
  },
  {
   "cell_type": "code",
   "execution_count": 3,
   "id": "f2372cbf-39d6-4d54-89ee-eca145bc79ab",
   "metadata": {},
   "outputs": [
    {
     "name": "stdout",
     "output_type": "stream",
     "text": [
      "(63, 24, 55.47643000000221) (10, 24, 20.445339999998282)\n"
     ]
    }
   ],
   "source": [
    "lat = deg2dms(lat)\n",
    "lon = deg2dms(lon)\n",
    "print(lat, lon)"
   ]
  },
  {
   "cell_type": "code",
   "execution_count": 4,
   "id": "3ca3bed3-9cec-47a4-8db5-15feac46f1ab",
   "metadata": {},
   "outputs": [
    {
     "name": "stdout",
     "output_type": "stream",
     "text": [
      "[[2804311.48264639]\n",
      " [ 514974.80695783]\n",
      " [5697548.99262804]]\n"
     ]
    }
   ],
   "source": [
    "R = 6371e3\n",
    "\n",
    "lat = dms2rad([63, 24, 55.47643])\n",
    "lon = dms2rad([10, 24, 20.44534])\n",
    "h = 140.123\n",
    "\n",
    "P = geod2ECEF(R, R, lat, lon, h)\n",
    "print(P)"
   ]
  },
  {
   "cell_type": "code",
   "execution_count": 5,
   "id": "c4baba5a-95dd-412f-ac4c-3893ff010231",
   "metadata": {},
   "outputs": [
    {
     "name": "stdout",
     "output_type": "stream",
     "text": [
      "lat: 63.4154101194 deg, lon: 10.4056792611 deg h:  140.123 m\n"
     ]
    }
   ],
   "source": [
    "lat, lon, h = ECEF2geod(R, R, P)\n",
    "print(\"lat: {:12.10f} deg, lon: {:12.10f} deg h: {:8.3f} m\".format(rad2deg(lat), rad2deg(lon), h))"
   ]
  }
 ],
 "metadata": {
  "kernelspec": {
   "display_name": "Python 3 (ipykernel)",
   "language": "python",
   "name": "python3"
  },
  "language_info": {
   "codemirror_mode": {
    "name": "ipython",
    "version": 3
   },
   "file_extension": ".py",
   "mimetype": "text/x-python",
   "name": "python",
   "nbconvert_exporter": "python",
   "pygments_lexer": "ipython3",
   "version": "3.10.8"
  }
 },
 "nbformat": 4,
 "nbformat_minor": 5
}
