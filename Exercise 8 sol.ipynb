{
 "cells": [
  {
   "cell_type": "code",
   "execution_count": 1,
   "id": "afec0a43-bb79-4459-8e0b-a677e54c89da",
   "metadata": {},
   "outputs": [
    {
     "name": "stdout",
     "output_type": "stream",
     "text": [
      "Plattform position: 49991.98 m, 49978.85 m\n"
     ]
    }
   ],
   "source": [
    "# Import libraries\n",
    "from numpy import array, eye, hstack, empty, ones, zeros, sqrt, diag, arctan2,\\\n",
    "                  trace, vstack, argmax, set_printoptions\n",
    "from numpy.linalg import inv, norm, eigh\n",
    "from matplotlib.patches import Ellipse\n",
    "import matplotlib.pyplot as plt\n",
    "from lib.convert import rad2deg\n",
    "\n",
    "# Representation of float numbers in arrays when printed\n",
    "set_printoptions(formatter={'float_kind':\"{:.2f}\".format})\n",
    "\n",
    "\n",
    "# Navigation modes\n",
    "mode = 'circular'\n",
    "# mode = 'circular_bias'\n",
    "# mode = 'hyperbolic'\n",
    "\n",
    "\n",
    "# Error ellipse2D\n",
    "def error_ellipse2D(xc, yc, cov, sigma=1, **kwargs):\n",
    "    eigval, eigvec = eigh(cov)        # Assume symmetric matrix\n",
    "    order = eigval.argsort()[::-1]    # Sort in decending order\n",
    "    eigval, eigvec = eigval[order], eigvec[:, order]\n",
    "    theta = rad2deg(arctan2(*eigvec[:, 0][::-1]))\n",
    "    \n",
    "    return Ellipse(xy=(xc, yc),\n",
    "                   width=2*sigma*sqrt(eigval[0]),\n",
    "                   height=2*sigma*sqrt(eigval[1]),\n",
    "                   angle=theta, **kwargs)\n",
    "\n",
    "\n",
    "# Transmitter coordinates [meter]\n",
    "Xs = array([[80000, 60000],\n",
    "            [30000, 90000],\n",
    "            [20000, 30000],\n",
    "            [80000, 20000],\n",
    "            [50000, 90000]])\n",
    "\n",
    "\n",
    "# Approximate receiver position [meter]\n",
    "x0 = array([[50000],\n",
    "            [50000]])\n",
    "\n",
    "\n",
    "# Standard deviation of unit weight (meter)\n",
    "sigma0 = 25\n",
    "\n",
    "\n",
    "# Standard deviation of observation (meter)\n",
    "sigmaz = 25\n",
    "\n",
    "\n",
    "# Covariance matrix of the observations (meter)\n",
    "SIGMAz = sigmaz**2*eye(5)\n",
    "\n",
    "\n",
    "# Observations (meter)\n",
    "s = array([[31600],\n",
    "           [44700],\n",
    "           [36000],\n",
    "           [42400],\n",
    "           [40033]])\n",
    "\n",
    "\n",
    "# Computed observations (meter)\n",
    "s0 = array([[norm(Xs[0, :] - x0.T)],\n",
    "            [norm(Xs[1, :] - x0.T)],\n",
    "            [norm(Xs[2, :] - x0.T)],\n",
    "            [norm(Xs[3, :] - x0.T)],\n",
    "            [norm(Xs[4, :] - x0.T)]])\n",
    "\n",
    "\n",
    "# Observation vector\n",
    "z = s - s0\n",
    "\n",
    "\n",
    "# Design matrix\n",
    "H = -(Xs - x0.T)/s0\n",
    "\n",
    "\n",
    "# Compute weights\n",
    "W = sigma0**2*inv(SIGMAz)\n",
    "\n",
    "\n",
    "# Switch mode\n",
    "def nav_mode(mode, H, W, z, SIGMAz, x0):\n",
    "    match mode:\n",
    "        case 'circular':\n",
    "            H = H\n",
    "            W = W; z = z; SIGMAz = SIGMAz\n",
    "            x0 = x0\n",
    "            return H, W, z, SIGMAz, x0\n",
    "        \n",
    "        case 'circular_bias':\n",
    "            H = hstack([H, ones([5, 1])])\n",
    "            W = W; z = z; SIGMAz = SIGMAz\n",
    "            x0 = vstack([x0,[0]])\n",
    "            return H, W, z, SIGMAz, x0\n",
    "        \n",
    "        case 'hyperbolic':\n",
    "            B = array([[1, -1, 0, 0, 0],\n",
    "                       [1, 0, -1, 0, 0],\n",
    "                       [1, 0, 0, -1, 0],\n",
    "                       [1, 0, 0, 0, -1]])\n",
    "            H = B@H\n",
    "            W = B@W@B.T;z = B@z; SIGMAz = B@SIGMAz@B.T\n",
    "            x0 = x0\n",
    "            return H, W, z, SIGMAz, x0\n",
    "\n",
    "        \n",
    "# Set mode\n",
    "[H, W, z, SIGMAz, x0] = nav_mode(mode, H, W, z, SIGMAz, x0)\n",
    "\n",
    "\n",
    "# System size\n",
    "(n, e) = H.shape\n",
    "\n",
    "\n",
    "# Solution of normal equations\n",
    "dx = inv(H.T@W@H)@H.T@W@z\n",
    "x = x0 + dx\n",
    "print(\"Plattform position: {:.2f} m, {:.2f} m\".format(*x[0], *x[1]))\n",
    "# print(\"Clock error: {:.2f} m\".format(*x[2]))"
   ]
  },
  {
   "cell_type": "code",
   "execution_count": 2,
   "id": "e5559486-9e77-4013-83a3-fe5d10ac8082",
   "metadata": {},
   "outputs": [
    {
     "name": "stdout",
     "output_type": "stream",
     "text": [
      "[[37.08]\n",
      " [36.69]\n",
      " [37.11]\n",
      " [17.12]\n",
      " [-11.85]]\n"
     ]
    }
   ],
   "source": [
    "# Residuals\n",
    "v = H@dx - z\n",
    "print(v)"
   ]
  },
  {
   "cell_type": "code",
   "execution_count": 3,
   "id": "0c227d3c-205a-445c-ae47-7b79e0d7ba15",
   "metadata": {},
   "outputs": [
    {
     "name": "stdout",
     "output_type": "stream",
     "text": [
      "Std. of unit weight: 38.9 m\n"
     ]
    }
   ],
   "source": [
    "# Standard deviation of unit weight\n",
    "s0_hat = sqrt(v.T@W@v/(n - e))\n",
    "print(\"Std. of unit weight: {:.1f} m\".format(*s0_hat[0]))"
   ]
  },
  {
   "cell_type": "code",
   "execution_count": 4,
   "id": "1b56b85f-e865-44be-b530-13d43068ca9d",
   "metadata": {},
   "outputs": [
    {
     "name": "stdout",
     "output_type": "stream",
     "text": [
      "[[0.44 0.02]\n",
      " [0.02 0.37]]\n"
     ]
    }
   ],
   "source": [
    "# Cofactor matrix of the unknowns\n",
    "Qx = inv(H.T@W@H)\n",
    "print(Qx)"
   ]
  },
  {
   "cell_type": "code",
   "execution_count": 5,
   "id": "fbbc6ded-11ba-4dd4-b2a2-c7f8fbfd0904",
   "metadata": {},
   "outputs": [
    {
     "name": "stdout",
     "output_type": "stream",
     "text": [
      "[25.71 23.65]\n"
     ]
    }
   ],
   "source": [
    "# Covariance matrix of the unknowns\n",
    "SIGMAx = s0_hat**2*Qx\n",
    "\n",
    "\n",
    "# Standard deviation of the unknowns\n",
    "sigmax = sqrt(diag(SIGMAx))\n",
    "print(sigmax)"
   ]
  },
  {
   "cell_type": "code",
   "execution_count": 6,
   "id": "4fb3f473-bcf8-4cde-8380-44144c77418f",
   "metadata": {},
   "outputs": [
    {
     "data": {
      "image/png": "[encoded data removed]",
      "text/plain": [
       "<Figure size 640x480 with 1 Axes>"
      ]
     },
     "metadata": {},
     "output_type": "display_data"
    }
   ],
   "source": [
    "# Cofactor matrix of the residuals\n",
    "Qv = inv(W) - H@Qx@H.T\n",
    "\n",
    "\n",
    "# Redundancy\n",
    "r = diag(Qv@W)\n",
    "\n",
    "\n",
    "# Plot error ellipse\n",
    "fig, ax = plt.subplots()\n",
    "\n",
    "ell1 = error_ellipse2D(0, 0, SIGMAx[0:2, 0:2], sigma=2, ec='green')\n",
    "ell2 = error_ellipse2D(0, 0, SIGMAx[0:2, 0:2], sigma=3, ec='blue')\n",
    "\n",
    "\n",
    "ell1.set_facecolor('none')\n",
    "ax.add_patch(ell1)\n",
    "\n",
    "\n",
    "ell2.set_facecolor('none')\n",
    "ax.add_patch(ell2)\n",
    "\n",
    "\n",
    "plt.title(\"Error ellipse 2D\")\n",
    "plt.xlabel(\"East [meter]\")\n",
    "plt.ylabel(\"North [meter]\")\n",
    "plt.xlim([-100, 100])\n",
    "plt.ylim([-100, 100])\n",
    "plt.grid()\n",
    "plt.show()"
   ]
  },
  {
   "cell_type": "code",
   "execution_count": 7,
   "id": "56a13443-e163-46f9-bc06-4b1c859e6b91",
   "metadata": {},
   "outputs": [
    {
     "name": "stdout",
     "output_type": "stream",
     "text": [
      "HDOP:   0.90\n",
      "DRMS:  34.94 m\n",
      "CEP :  26.20 m\n"
     ]
    }
   ],
   "source": [
    "# Horizontal dilution of precision (HDOP)\n",
    "HDOP = sqrt(trace(Qx[0:2, 0:2]))\n",
    "print(\"HDOP: {:6.2f}\".format(HDOP))\n",
    "\n",
    "\n",
    "# Distance Root Mean Squared (DRMS)\n",
    "DRMS = sqrt(trace(SIGMAx[0:2, 0:2]))\n",
    "print(\"DRMS: {:6.2f} m\".format(DRMS))\n",
    "\n",
    "\n",
    "# Circular Error Probable (CEP)\n",
    "CEP = 0.75*DRMS\n",
    "print(\"CEP : {:6.2f} m\".format(CEP))"
   ]
  },
  {
   "cell_type": "code",
   "execution_count": 8,
   "id": "195655b3-df7c-4169-b67a-0e950acf5dbb",
   "metadata": {},
   "outputs": [
    {
     "name": "stdout",
     "output_type": "stream",
     "text": [
      "[138.58 129.74 137.75 131.37 130.20]\n"
     ]
    }
   ],
   "source": [
    "# Minimal Detectable Bias (MDB)\n",
    "lambda0 = 17.075; # i.e. alpha=0.001, gamma=0.80\n",
    "nablamax = sqrt(lambda0/(r*diag(inv(SIGMAz))))\n",
    "print(nablamax)"
   ]
  },
  {
   "cell_type": "code",
   "execution_count": 9,
   "id": "d850fb51-b6f6-4e64-b336-30bc02380259",
   "metadata": {},
   "outputs": [
    {
     "name": "stdout",
     "output_type": "stream",
     "text": [
      "[[58.51]\n",
      " [19.18]]\n"
     ]
    }
   ],
   "source": [
    "# Minimal Detectable Error (MDE)\n",
    "nablax = []\n",
    "for i in range(0, n):\n",
    "    nabla = zeros([n, 1])\n",
    "    nabla[i] = nablamax[i]\n",
    "    dx = inv(H.T@W@H)@H.T@W@nabla\n",
    "    nablax.append(dx[0:2])\n",
    "\n",
    "    \n",
    "# Maximum effect on the unknowns\n",
    "index = argmax(norm(nablax, axis=1))\n",
    "nablaxmax = abs(nablax[index])\n",
    "print(nablaxmax)"
   ]
  }
 ],
 "metadata": {
  "kernelspec": {
   "display_name": "Python 3 (ipykernel)",
   "language": "python",
   "name": "python3"
  },
  "language_info": {
   "codemirror_mode": {
    "name": "ipython",
    "version": 3
   },
   "file_extension": ".py",
   "mimetype": "text/x-python",
   "name": "python",
   "nbconvert_exporter": "python",
   "pygments_lexer": "ipython3",
   "version": "3.10.8"
  }
 },
 "nbformat": 4,
 "nbformat_minor": 5
}
