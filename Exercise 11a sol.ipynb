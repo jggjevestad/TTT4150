{
 "cells": [
  {
   "cell_type": "code",
   "execution_count": 2,
   "id": "3ab9fc29-7bf3-4f8e-8d6f-d100dd4122aa",
   "metadata": {},
   "outputs": [
    {
     "name": "stdout",
     "output_type": "stream",
     "text": [
      "[[10.7846942 ]\n",
      " [-6.02722264]]\n"
     ]
    }
   ],
   "source": [
    "from numpy import array, arctan2, sin, cos\n",
    "\n",
    "# Time interval\n",
    "dt = 1                        # second\n",
    "\n",
    "# Initial position\n",
    "pgb_g = array([[2.3],         # meter\n",
    "               [3.7]])        # meter\n",
    "\n",
    "\n",
    "# Observations\n",
    "\n",
    "# Velocity\n",
    "vgb_b = array([[12.8],        # meter/second\n",
    "               [0]])          # meter/second\n",
    "\n",
    "# Specific force\n",
    "fgb_b = array([[1.8],         # meter/second^2\n",
    "               [0.2]])        # meter/second^2\n",
    "\n",
    "# Magnetometer\n",
    "mgb_b = array([[120],         # uGauss\n",
    "               [-180]])       # uGauss\n",
    "\n",
    "# Gyroscope\n",
    "ogb_b = 0.13                  # radian/second\n",
    "Ogb_b = array([[0, -ogb_b],\n",
    "               [ogb_b, 0]])\n",
    "\n",
    "\n",
    "# Compute inital heading\n",
    "psi = arctan2(-mgb_b[1, 0], mgb_b[0, 0])\n",
    "\n",
    "# Compute Cb_g\n",
    "Cb_g = array([[cos(psi), sin(psi)],\n",
    "              [-sin(psi), cos(psi)]])\n",
    "\n",
    "# Compute Cb_g_dot\n",
    "Cb_g_dot = Cb_g@Ogb_b\n",
    "\n",
    "# Compute Cb_g_hat\n",
    "Cb_g_hat = Cb_g + Cb_g_dot*dt\n",
    "\n",
    "# Compute velocity in g-frame\n",
    "vgb_g = Cb_g_hat@vgb_b\n",
    "\n",
    "# Compute position in g-frame\n",
    "pgb_g = pgb_g + vgb_g*dt\n",
    "print(pgb_g)"
   ]
  }
 ],
 "metadata": {
  "kernelspec": {
   "display_name": "Python 3 (ipykernel)",
   "language": "python",
   "name": "python3"
  },
  "language_info": {
   "codemirror_mode": {
    "name": "ipython",
    "version": 3
   },
   "file_extension": ".py",
   "mimetype": "text/x-python",
   "name": "python",
   "nbconvert_exporter": "python",
   "pygments_lexer": "ipython3",
   "version": "3.10.8"
  }
 },
 "nbformat": 4,
 "nbformat_minor": 5
}
