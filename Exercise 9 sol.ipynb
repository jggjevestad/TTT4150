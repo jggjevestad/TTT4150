{
 "cells": [
  {
   "cell_type": "code",
   "execution_count": 1,
   "id": "fcfe6f50-1234-4cfa-bfb0-19cea6b3f38f",
   "metadata": {},
   "outputs": [],
   "source": [
    "from numpy import array, sqrt, sin, cos, arctan2, eye, hstack, zeros, ones, trace, delete, set_printoptions\n",
    "from numpy.linalg import inv, norm, eigh\n",
    "import matplotlib.pyplot as plt\n",
    "from matplotlib.patches import Ellipse\n",
    "from lib.geodesy import ECEF2geod\n",
    "from lib.convert import rad2deg\n",
    "\n",
    "# Representation of float numbers in arrays when printed\n",
    "set_printoptions(formatter={'float_kind':\"{:.3f}\".format})\n",
    "\n",
    "\n",
    "# Constants\n",
    "c = 2.99792458e8             # Speed of light [meter/second]\n",
    "\n",
    "# WGS84 parameters\n",
    "a = 6378137                  # Semi-major axis [meter]\n",
    "f = 1/298.257223563          # Flattening\n",
    "b = a*(1 - f)                # Semi-minor axis [meter]\n",
    "\n",
    "\n",
    "# Statistic tables @ 5%\n",
    "t_tab = [12.706, 4.303, 3.182, 2.776, 2.571, 2.446, 2.364]\n",
    "\n",
    "\n",
    "# Estimate error\n",
    "def est_error(H, W, z):\n",
    "    \n",
    "    # Initialize vectors\n",
    "    nabla = []; sigma = []; t = []\n",
    "    \n",
    "    # System size\n",
    "    n, e = H.shape\n",
    "    \n",
    "    # Estimating outliers\n",
    "    for i in range(0, n):\n",
    "        ei = zeros([n, 1]); ei[i] = 1; Hi = hstack([H, ei])\n",
    "        xi = inv(Hi.T@W@Hi)@Hi.T@W@z; vi = Hi@xi - z\n",
    "        Qxi = inv(Hi.T@W@Hi); qi = Qxi[e, e]\n",
    "        nabla.append(xi[e, 0])\n",
    "        sigma.append(sqrt(1/(n - e - 1)*(vi.T@W@vi)*qi)[0, 0])\n",
    "        t.append(abs(nabla[i]/sigma[i]))\n",
    "        \n",
    "    return nabla, sigma, t\n",
    "\n",
    "\n",
    "# Error ellipse2D\n",
    "def error_ellipse2D(xc, yc, cov, sigma=1, **kwargs):\n",
    "    eigval, eigvec = eigh(cov)        # Assume symmetric matrix\n",
    "    order = eigval.argsort()[::-1]    # Sort in decending order\n",
    "    eigval, eigvec = eigval[order], eigvec[:, order]\n",
    "    theta = rad2deg(arctan2(*eigvec[:, 0][::-1]))\n",
    "    \n",
    "    return Ellipse(xy=(xc, yc),\n",
    "                   width=2*sigma*sqrt(eigval[0]),\n",
    "                   height=2*sigma*sqrt(eigval[1]),\n",
    "                   angle=theta, **kwargs)\n",
    "\n",
    "\n",
    "# Satellite coordinates adjusted for earth rotation [meter]\n",
    "Xs = array([[ 16326752.151,  13183092.336, 16097827.926],\n",
    "            [ 14050839.890, -21036999.898,  8241951.622],\n",
    "            [  7562364.857,  17272086.865, 19245152.658],\n",
    "            [  4088490.405, -22201485.306, 14035741.754],\n",
    "            [ 18183513.847,   1674550.344, 19513032.152],\n",
    "            [ 14926470.369, -11434281.485, 19161782.900],\n",
    "            [ 13362799.875,  21908402.066,  7021690.383],\n",
    "            [ -3196562.499,  14840389.672, 21491981.175],\n",
    "            [-10952621.217, -10431043.213, 21740756.738]])\n",
    "\n",
    "\n",
    "# Approximate receiver position [meter]\n",
    "x0 = array([[3172302],\n",
    "            [603839],\n",
    "            [5481967],\n",
    "            [0]])\n",
    "\n",
    "\n",
    "# Standard deviation of unit weight [meter]\n",
    "sigma0 = 1\n",
    "\n",
    "\n",
    "# Standard deviation of observation [meter]\n",
    "sigmaz = 1\n",
    "\n",
    "\n",
    "# Observed pseudoranges [meter]\n",
    "R = array([[21070672],\n",
    "           [24377980],\n",
    "           [22057378],\n",
    "           [24373944],\n",
    "           [20575650],\n",
    "           [21684412],\n",
    "           [23666456],\n",
    "           [22350884],\n",
    "           [24199797]])\n",
    "\n",
    "\n",
    "# Covariance matrix of the observations [meter]\n",
    "SIGMAz = sigmaz**2*eye(len(R))\n",
    "\n",
    "\n",
    "# Preliminary ranges [meter]\n",
    "R0 = norm(Xs - x0[0:3].T, axis=1).reshape(len(R), 1)\n",
    "\n",
    "\n",
    "# Observation vector\n",
    "z = R - R0\n",
    "\n",
    "\n",
    "# Design matrix\n",
    "H = hstack([-(Xs - x0[0:3].T)/R0, ones([len(R), 1])])\n",
    "\n",
    "\n",
    "# System size\n",
    "n, e = H.shape\n",
    "\n",
    "\n",
    "# Compute weights\n",
    "W = sigma0**2*inv(SIGMAz)"
   ]
  },
  {
   "cell_type": "code",
   "execution_count": 2,
   "id": "2003af96-d6eb-408d-b6fc-7da3ed8b377c",
   "metadata": {},
   "outputs": [
    {
     "name": "stdout",
     "output_type": "stream",
     "text": [
      "Minimal Detectable Bias: 4.464 m\n",
      "Minimal Detectable Error: 5.140 m\n"
     ]
    }
   ],
   "source": [
    "# Estimate errors\n",
    "nabla, sigma, t = est_error(H, W, z)\n",
    "\n",
    "\n",
    "# Outlier detection\n",
    "if max(t) > t_tab[n - e - 1]:\n",
    "        \n",
    "    # Outlier identification\n",
    "    ind = t.index(max(t))\n",
    "        \n",
    "    # Removing outlier from system (adaption)\n",
    "    H = delete(H, ind, 0); z = delete(z, ind, 0)\n",
    "    W = delete(W, ind, 0); W = delete(W, ind, 1)\n",
    "    \n",
    "    # System size\n",
    "    n, e = H.shape\n",
    "    \n",
    "    # Estimate errors in new system\n",
    "    nabla, sigma, t = est_error(H, W, z)\n",
    "    \n",
    "\n",
    "# Inner reliability\n",
    "nablamax = []\n",
    "for i in range(0, n):\n",
    "    nablamax.append(max([abs(nabla[i] + t_tab[n - e - 1]*sigma[i]), abs(nabla[i] - t_tab[n - e - 1]*sigma[i])]))\n",
    "\n",
    "print(\"Minimal Detectable Bias: {:.3f} m\".format(max(nablamax)))\n",
    "\n",
    "\n",
    "# Outer reliability\n",
    "nablax = []\n",
    "for i in range(0, n):\n",
    "    nabla = zeros([n, 1]); nabla[i] = nablamax[i]\n",
    "    dx = inv(H.T@W@H)@H.T@W@nabla\n",
    "    nablax.append(norm(dx[0:3]))\n",
    "\n",
    "print(\"Minimal Detectable Error: {:.3f} m\".format(max(nablax)))"
   ]
  },
  {
   "cell_type": "code",
   "execution_count": 3,
   "id": "918397c3-a7b5-455d-8df4-210e4c7633ea",
   "metadata": {},
   "outputs": [
    {
     "name": "stdout",
     "output_type": "stream",
     "text": [
      "Receiver position (ECEF): 3172308.873 m, 603841.051 m, 5481979.663 m\n",
      "Receiver position (Geodetic): 59.66697866 deg, 10.77718222 deg, 169.926 m\n",
      "Receiver clock error: 0.307 m\n"
     ]
    }
   ],
   "source": [
    "# LSQ solution\n",
    "dx = inv(H.T@W@H)@H.T@W@z\n",
    "x = x0 + dx\n",
    "\n",
    "print(\"Receiver position (ECEF): {:.3f} m, {:.3f} m, {:.3f} m\".format(*x[0], *x[1], *x[2]))\n",
    "\n",
    "# Geodetic coordinates\n",
    "lat, lon, h = ECEF2geod(a, b, x[0:3])\n",
    "print(\"Receiver position (Geodetic): {:.8f} deg, {:.8f} deg, {:.3f} m\".format(rad2deg(lat), rad2deg(lon), h))\n",
    "print(\"Receiver clock error: {:.3f} m\".format(*x[3]))"
   ]
  },
  {
   "cell_type": "code",
   "execution_count": 4,
   "id": "89483a50-27c9-479a-82c0-491c9b00d210",
   "metadata": {},
   "outputs": [
    {
     "name": "stdout",
     "output_type": "stream",
     "text": [
      "[[-0.722]\n",
      " [-0.300]\n",
      " [0.685]\n",
      " [0.279]\n",
      " [0.295]\n",
      " [0.231]\n",
      " [-0.319]\n",
      " [-0.150]]\n"
     ]
    }
   ],
   "source": [
    "# Compute residuals\n",
    "v = H@dx - z\n",
    "print(v)"
   ]
  },
  {
   "cell_type": "code",
   "execution_count": 5,
   "id": "af74670b-8ee4-4ba9-9376-c49d80129bfd",
   "metadata": {},
   "outputs": [
    {
     "name": "stdout",
     "output_type": "stream",
     "text": [
      "Std. dev. of unit weight: 0.597 m\n"
     ]
    }
   ],
   "source": [
    "# Standard deviation of unit weight\n",
    "sigma0_hat = sqrt((v.T@W@v)/(n - e))\n",
    "print(\"Std. dev. of unit weight: {:.3f} m\".format(sigma0_hat[0, 0]))"
   ]
  },
  {
   "cell_type": "code",
   "execution_count": 6,
   "id": "1d4337d2-9126-46db-b027-3f73d68dccd8",
   "metadata": {},
   "outputs": [
    {
     "name": "stdout",
     "output_type": "stream",
     "text": [
      "[[1.062 -0.099 0.904 0.602]\n",
      " [-0.099 0.244 -0.175 -0.096]\n",
      " [0.904 -0.175 2.994 1.534]\n",
      " [0.602 -0.096 1.534 0.935]]\n"
     ]
    }
   ],
   "source": [
    "# Cofactor matrix (ECEF)\n",
    "Qx = inv(H.T@W@H)\n",
    "print(Qx)"
   ]
  },
  {
   "cell_type": "code",
   "execution_count": 7,
   "id": "303a66d7-2daf-4e4c-b8d8-3ffbd1444934",
   "metadata": {},
   "outputs": [
    {
     "name": "stdout",
     "output_type": "stream",
     "text": [
      "[[0.378 -0.035 0.322 0.214]\n",
      " [-0.035 0.087 -0.062 -0.034]\n",
      " [0.322 -0.062 1.066 0.546]\n",
      " [0.214 -0.034 0.546 0.333]]\n"
     ]
    }
   ],
   "source": [
    "# Covariance matrix (ECEF)\n",
    "SIGMAx = sigma0_hat**2*Qx\n",
    "print(SIGMAx)"
   ]
  },
  {
   "cell_type": "code",
   "execution_count": 8,
   "id": "0ae04115-43c3-4fb3-ac4b-9289b4f8065e",
   "metadata": {},
   "outputs": [
    {
     "name": "stdout",
     "output_type": "stream",
     "text": [
      "[[0.761 0.037 -0.451 0.280]\n",
      " [0.037 0.309 0.417 -0.207]\n",
      " [-0.451 0.417 3.230 -1.614]\n",
      " [0.280 -0.207 -1.614 0.935]]\n"
     ]
    }
   ],
   "source": [
    "# Rotate from e-frame to g-frame (ned)\n",
    "Ce_g = array([[-sin(lat)*cos(lon), -sin(lat)*sin(lon), cos(lat), 0],\n",
    "              [-sin(lon), cos(lon), 0, 0],\n",
    "              [-cos(lat)*cos(lon), -cos(lat)*sin(lon), -sin(lat), 0],\n",
    "              [0, 0, 0, 1]])\n",
    "\n",
    "# Cofactor matrix (topocentric)\n",
    "Qx_g = Ce_g@Qx@Ce_g.T\n",
    "print(Qx_g)"
   ]
  },
  {
   "cell_type": "code",
   "execution_count": 9,
   "id": "2f03f08a-4ae0-490a-8060-e925486a5687",
   "metadata": {},
   "outputs": [
    {
     "name": "stdout",
     "output_type": "stream",
     "text": [
      "[[0.271 0.013 -0.161 0.100]\n",
      " [0.013 0.110 0.148 -0.074]\n",
      " [-0.161 0.148 1.150 -0.574]\n",
      " [0.100 -0.074 -0.574 0.333]]\n"
     ]
    }
   ],
   "source": [
    "# Covariance matrix (topocentric)\n",
    "SIGMAx_g = sigma0_hat**2*Qx_g;\n",
    "print(SIGMAx_g)"
   ]
  },
  {
   "cell_type": "code",
   "execution_count": 10,
   "id": "f2c7574d-aa78-48db-a1e1-c797fb87e3d5",
   "metadata": {},
   "outputs": [
    {
     "data": {
      "image/png": "[encoded data removed]",
      "text/plain": [
       "<Figure size 640x480 with 1 Axes>"
      ]
     },
     "metadata": {},
     "output_type": "display_data"
    }
   ],
   "source": [
    "# Plot error ellipse\n",
    "fig, ax = plt.subplots()\n",
    "\n",
    "ell1 = error_ellipse2D(0, 0, SIGMAx[0:2, 0:2], sigma=2, ec='green', label='2 sigma')\n",
    "ell2 = error_ellipse2D(0, 0, SIGMAx[0:2, 0:2], sigma=3, ec='blue', label='3 sigma')\n",
    "\n",
    "ell1.set_facecolor('none')\n",
    "ax.add_patch(ell1)\n",
    "\n",
    "ell2.set_facecolor('none')\n",
    "ax.add_patch(ell2)\n",
    "\n",
    "plt.title(\"Error ellipse 2D\")\n",
    "plt.xlabel(\"East [meter]\")\n",
    "plt.ylabel(\"North [meter]\")\n",
    "plt.legend()\n",
    "plt.xlim([-5, 5])\n",
    "plt.ylim([-5, 5])\n",
    "plt.grid()\n",
    "\n",
    "plt.show()"
   ]
  },
  {
   "cell_type": "code",
   "execution_count": 11,
   "id": "510efe65-1ec3-499b-a0bd-8e87ce3d489f",
   "metadata": {},
   "outputs": [
    {
     "name": "stdout",
     "output_type": "stream",
     "text": [
      "GDOP:   2.29\n",
      "PDOP:   2.07\n",
      "HDOP:   1.03\n",
      "VDOP:   1.80\n",
      "TDOP:   0.97\n",
      "DRMS:   0.68 m\n",
      "CEP :   0.51 m\n"
     ]
    }
   ],
   "source": [
    "# Geometric dilution of precision (GDOP)\n",
    "GDOP = sqrt(trace(Qx_g))\n",
    "print(\"GDOP: {:6.2f}\".format(GDOP))\n",
    "\n",
    "# Position dilution of precision (PDOP)\n",
    "PDOP = sqrt(trace(Qx_g[0:3, 0:3]))\n",
    "print(\"PDOP: {:6.2f}\".format(PDOP))\n",
    "\n",
    "# Horizontal dilution of precision (HDOP)\n",
    "HDOP = sqrt(trace(Qx_g[0:2, 0:2]))\n",
    "print(\"HDOP: {:6.2f}\".format(HDOP))\n",
    "\n",
    "# Vertical dilution of precision (VDOP)\n",
    "VDOP = sqrt(Qx_g[2, 2])\n",
    "print(\"VDOP: {:6.2f}\".format(VDOP))\n",
    "\n",
    "# Time dilution of precision (TDOP)\n",
    "TDOP = sqrt(Qx_g[3, 3])\n",
    "print(\"TDOP: {:6.2f}\".format(TDOP))\n",
    "\n",
    "# Distance Root Mean Squared (DRMS)\n",
    "DRMS = sqrt(trace(SIGMAx[0:2, 0:2]))\n",
    "print(\"DRMS: {:6.2f} m\".format(DRMS))\n",
    "\n",
    "# Circular Error Probable (CEP)\n",
    "CEP = 0.75*DRMS\n",
    "print(\"CEP : {:6.2f} m\".format(CEP))"
   ]
  }
 ],
 "metadata": {
  "kernelspec": {
   "display_name": "Python 3 (ipykernel)",
   "language": "python",
   "name": "python3"
  },
  "language_info": {
   "codemirror_mode": {
    "name": "ipython",
    "version": 3
   },
   "file_extension": ".py",
   "mimetype": "text/x-python",
   "name": "python",
   "nbconvert_exporter": "python",
   "pygments_lexer": "ipython3",
   "version": "3.10.8"
  }
 },
 "nbformat": 4,
 "nbformat_minor": 5
}
