{
 "cells": [
  {
   "cell_type": "code",
   "execution_count": 1,
   "id": "8746084d-69ac-4793-b4ce-cc4a5ef60eb9",
   "metadata": {},
   "outputs": [],
   "source": [
    "from numpy import array, sqrt, sin, cos, arctan2, set_printoptions\n",
    "\n",
    "# Representation of float numbers in arrays when printed\n",
    "set_printoptions(formatter={'float_kind':\"{:.3f}\".format})\n",
    "\n",
    "\n",
    "# IS-GPS-200K constants\n",
    "pi = 3.1415926535898         # Constant pi\n",
    "c = 2.99792458e8             # Speed of light [meter/second]\n",
    "OMEGADOTe = 7.2921151467e-5  # Earth's rotation rate [rad/s]\n",
    "GM = 3.986005e14             # Earth's gravitational constant [meter^3/second^2]\n",
    "\n",
    "\n",
    "# Correction for beginning or end of week crossovers in GNSS systems\n",
    "def dt(t, t0):\n",
    "    t = t - t0\n",
    "    if t > 302400:\n",
    "        t = t - 604800\n",
    "    elif t < -302400:\n",
    "        t = t + 604800\n",
    "    return t\n",
    "\n",
    "\n",
    "# Satellite ECEF position\n",
    "def satpos(ttr, toe, ROOTa, DELTAn, M0, e, omega, Cus, Cuc, Crs, Crc, Cis, Cic, i0, iDOT, OMEGA0, OMEGADOT):\n",
    "    \n",
    "    # Anomalies of the Keplerian orbit\n",
    "    a = ROOTa**2        # Semi-major axis [m]\n",
    "    n0 = sqrt(GM/a**3)  # Mean angular velocity [rad/sec]\n",
    "    t = dt(ttr, toe)    # Time from reference epoch [s]\n",
    "    n = n0 + DELTAn     # Corrected mean motion [rad/s]\n",
    "    M = M0 + n*t        # Mean anomaly [rad]\n",
    "\n",
    "    # Kepler's equation\n",
    "    epsilon = 1e-10\n",
    "    E_new = M\n",
    "    E = 0\n",
    "\n",
    "    while abs(E_new - E) > epsilon:\n",
    "        E = E_new\n",
    "        E_new = M + e*sin(E)\n",
    "\n",
    "    # Eccentric anomaly\n",
    "    E = E_new\n",
    "\n",
    "    # True anomaly\n",
    "    v = arctan2(sqrt(1 - e**2)*sin(E), cos(E) - e)\n",
    "\n",
    "    # Argument of latitude\n",
    "    PHI = v + omega\n",
    "\n",
    "    # Second harmonic perturbations\n",
    "    du = Cus*sin(2*PHI) + Cuc*cos(2*PHI)  # Argument of latitude correction [rad]\n",
    "    dr = Crs*sin(2*PHI) + Crc*cos(2*PHI)  # Radius correction [m]\n",
    "    di = Cis*sin(2*PHI) + Cic*cos(2*PHI)  # Inclination correction[rad]\n",
    "\n",
    "    # Orbit corrections\n",
    "    u = PHI + du               # Corrected argument of latitude [rad]\n",
    "    r = a*(1 - e*cos(E)) + dr  # Corrected radius [m]\n",
    "    i = i0 + di + iDOT*t       # Corrected inclination [rad]\n",
    "\n",
    "    # Corrected longitude of ascending node\n",
    "    OMEGA = OMEGA0 + (OMEGADOT - OMEGADOTe)*t - OMEGADOTe*toe\n",
    "\n",
    "    # Satellite position in ECEF system\n",
    "    Xs0 = array([[r*cos(u)*cos(OMEGA) - r*sin(u)*sin(OMEGA)*cos(i)],\n",
    "                 [r*cos(u)*sin(OMEGA) + r*sin(u)*cos(OMEGA)*cos(i)],\n",
    "                 [r*sin(u)*sin(i)]])\n",
    "    return Xs0\n",
    "\n",
    "\n",
    "# z-axis rotation\n",
    "def Rz(rz):\n",
    "    return array([[cos(rz), -sin(rz), 0],\n",
    "                  [sin(rz), cos(rz), 0],\n",
    "                  [0, 0, 1]])"
   ]
  },
  {
   "cell_type": "code",
   "execution_count": 2,
   "id": "4467e7b7-11c3-47ab-8533-6313de079eab",
   "metadata": {},
   "outputs": [],
   "source": [
    "from georinex import load\n",
    "from numpy.linalg import norm\n",
    "\n",
    "\n",
    "# RINEX navigation file\n",
    "navfile = \"TRDS00NOR_S_20230390000_01H_GN.rnx\"\n",
    "\n",
    "# Read navigation file\n",
    "nav = load(navfile)\n",
    "\n",
    "# Extract data for satellite G32\n",
    "prn32 = nav.sel(sv='G32')\n",
    "\n",
    "# Approximate receiver position [m]\n",
    "Xr = array([[2820171.1097],\n",
    "            [513485.9012],\n",
    "            [5678935.7475]])\n",
    "\n",
    "# Satelllite G32 broadcast ephemerides (RINEX)\n",
    "ttr = 8134                              # [s] @02:15:34\n",
    "toe = 7200                              # [s] @02:00:00\n",
    "sqrtA = prn32['sqrtA'].values[0]        # [sqrt(m)]\n",
    "DeltaN = prn32['DeltaN'].values[0]      # [rad/s]\n",
    "M0 = prn32['M0'].values[0]              # [rad]\n",
    "ecc = prn32['Eccentricity'].values[0]   # [unitless]\n",
    "omega = prn32['omega'].values[0]        # [rad]\n",
    "Cus = prn32['Cus'].values[0]            # [rad]\n",
    "Cuc = prn32['Cuc'].values[0]            # [rad]\n",
    "Crs = prn32['Crs'].values[0]            # [m]\n",
    "Crc = prn32['Crc'].values[0]            # [m]\n",
    "Cis = prn32['Cis'].values[0]            # [rad]\n",
    "Cic = prn32['Cic'].values[0]            # [rad]\n",
    "i0 = prn32['Io'].values[0]              # [rad]\n",
    "iDOT = prn32['IDOT'].values[0]          # [rad/s]\n",
    "OMEGA0 = prn32['Omega0'].values[0]      # [rad]\n",
    "OMEGADOT = prn32['OmegaDot'].values[0]  # [rad/s]"
   ]
  },
  {
   "cell_type": "code",
   "execution_count": 3,
   "id": "95389a9e-0b83-4c9c-9ea4-0f33fcfaff88",
   "metadata": {},
   "outputs": [
    {
     "name": "stdout",
     "output_type": "stream",
     "text": [
      "[[-21686255.021]\n",
      " [14951498.205]\n",
      " [2568092.207]]\n"
     ]
    }
   ],
   "source": [
    "# Satellite ECEF position @02:15:34 [m]\n",
    "Xs0 = satpos(ttr, toe, sqrtA, DeltaN, M0, ecc, omega,\n",
    "             Cus, Cuc, Crs, Crc, Cis, Cic, i0, iDOT, OMEGA0, OMEGADOT)\n",
    "print(Xs0)"
   ]
  },
  {
   "cell_type": "code",
   "execution_count": 4,
   "id": "a184884f-57df-4e0d-bee2-b93fb7a8d245",
   "metadata": {},
   "outputs": [
    {
     "name": "stdout",
     "output_type": "stream",
     "text": [
      "Altitude above Earth: 20094752.455 m\n"
     ]
    }
   ],
   "source": [
    "# Altitude above the Earths surface\n",
    "R = 6371e3\n",
    "print(\"Altitude above Earth: {:.3f} m\".format(norm(Xs0) - R))"
   ]
  },
  {
   "cell_type": "code",
   "execution_count": 5,
   "id": "06f59fba-cc67-4f58-9c7c-705abcbcd1ca",
   "metadata": {},
   "outputs": [
    {
     "name": "stdout",
     "output_type": "stream",
     "text": [
      "Velocity in orbit: 3193.135 m/s\n"
     ]
    }
   ],
   "source": [
    "# Satellite position @ttr + 1s\n",
    "Xs0_1 = satpos(ttr + 1, toe, sqrtA, DeltaN, M0, ecc, omega,\n",
    "               Cus, Cuc, Crs, Crc, Cis, Cic, i0, iDOT, OMEGA0, OMEGADOT)\n",
    "\n",
    "# Velocity in orbit [m/s]\n",
    "print(\"Velocity in orbit: {:.3f} m/s\".format(norm(Xs0_1 - Xs0)))"
   ]
  },
  {
   "cell_type": "code",
   "execution_count": 6,
   "id": "097eeff0-e7db-4fd1-a595-deeae7810037",
   "metadata": {},
   "outputs": [],
   "source": [
    "# Initial estimate of signal delay [ms]\n",
    "sd_new = norm(Xs0 - Xr)/c\n",
    "sd = 0\n",
    "\n",
    "# Estimate signal travel time due to earth rotation\n",
    "Xs = None\n",
    "while abs(sd_new - sd) > 1e-10:\n",
    "    sd = sd_new\n",
    "    Xs = Rz(-OMEGADOTe*sd)@Xs0\n",
    "\n",
    "    # Compute delay estimate\n",
    "    sd_new = norm(Xs - Xr)/c"
   ]
  },
  {
   "cell_type": "code",
   "execution_count": 7,
   "id": "f9ab6a68-474e-455e-9496-36753fa1aaaf",
   "metadata": {},
   "outputs": [
    {
     "name": "stdout",
     "output_type": "stream",
     "text": [
      "[[-21686150.961]\n",
      " [14951649.136]\n",
      " [2568092.207]]\n"
     ]
    }
   ],
   "source": [
    "# Corrected satellite ECEF position @02:15:34 [m]\n",
    "print(Xs)"
   ]
  },
  {
   "cell_type": "code",
   "execution_count": 8,
   "id": "1439b1e9-3414-43e6-825f-2529cbcf4782",
   "metadata": {},
   "outputs": [
    {
     "name": "stdout",
     "output_type": "stream",
     "text": [
      "Signal delay: 95.442 ms\n"
     ]
    }
   ],
   "source": [
    "# Estimate of signal delay [ms]\n",
    "print(\"Signal delay: {:.3f} ms\".format(norm(Xs - Xr)/c*1e3))"
   ]
  },
  {
   "cell_type": "code",
   "execution_count": 9,
   "id": "25f30515-23ad-41b0-9c2d-3949bcb140c5",
   "metadata": {},
   "outputs": [
    {
     "name": "stdout",
     "output_type": "stream",
     "text": [
      "Change in satellite position: 183.326 m\n"
     ]
    }
   ],
   "source": [
    "# Change in satellite position due to Earth rotation [m]\n",
    "print(\"Change in satellite position: {:.3f} m\".format(norm(Xs - Xs0)))"
   ]
  }
 ],
 "metadata": {
  "kernelspec": {
   "display_name": "Python 3 (ipykernel)",
   "language": "python",
   "name": "python3"
  },
  "language_info": {
   "codemirror_mode": {
    "name": "ipython",
    "version": 3
   },
   "file_extension": ".py",
   "mimetype": "text/x-python",
   "name": "python",
   "nbconvert_exporter": "python",
   "pygments_lexer": "ipython3",
   "version": "3.9.7"
  }
 },
 "nbformat": 4,
 "nbformat_minor": 5
}
