{
 "cells": [
  {
   "cell_type": "code",
   "execution_count": 1,
   "id": "a473da78-17cb-41c5-a0d4-a9a182592242",
   "metadata": {},
   "outputs": [
    {
     "name": "stdout",
     "output_type": "stream",
     "text": [
      "[[4.]\n",
      " [3.]]\n"
     ]
    }
   ],
   "source": [
    "from numpy import array\n",
    "from numpy.linalg import inv\n",
    "\n",
    "# 1D positioning\n",
    "\n",
    "# Observation vector\n",
    "z = array([[8 - 1],\n",
    "           [10 - 11]])\n",
    "\n",
    "# Design matrix\n",
    "H = array([[1, 1],\n",
    "           [-1, 1]])\n",
    "\n",
    "# LSQ solution\n",
    "x = inv(H.T@H)@H.T@z\n",
    "print(x)"
   ]
  },
  {
   "cell_type": "code",
   "execution_count": 2,
   "id": "4c1714e2-2934-459d-b5c5-fc001361158e",
   "metadata": {},
   "outputs": [
    {
     "name": "stdout",
     "output_type": "stream",
     "text": [
      "[[2.]\n",
      " [5.]\n",
      " [2.]]\n"
     ]
    }
   ],
   "source": [
    "# 2D positioning\n",
    "\n",
    "# Observation vector\n",
    "z = array([[7 - 5 - 0],\n",
    "           [7 - 5 - 0],\n",
    "           [7 - 5 - 0]])\n",
    "\n",
    "# Design matrix\n",
    "H = array([[-0.6, 0.8, 1],\n",
    "           [-1, 0 ,1],\n",
    "           [-0.6, -0.8, 1]])\n",
    "\n",
    "# Preliminary values\n",
    "x0 = array([[2],\n",
    "            [5],\n",
    "            [0]])\n",
    "\n",
    "# LSQ solution\n",
    "dx = inv(H.T@H)@H.T@z\n",
    "x = x0 + dx\n",
    "print(x)"
   ]
  }
 ],
 "metadata": {
  "kernelspec": {
   "display_name": "Python 3 (ipykernel)",
   "language": "python",
   "name": "python3"
  },
  "language_info": {
   "codemirror_mode": {
    "name": "ipython",
    "version": 3
   },
   "file_extension": ".py",
   "mimetype": "text/x-python",
   "name": "python",
   "nbconvert_exporter": "python",
   "pygments_lexer": "ipython3",
   "version": "3.10.8"
  }
 },
 "nbformat": 4,
 "nbformat_minor": 5
}
