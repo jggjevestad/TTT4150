{
 "cells": [
  {
   "cell_type": "code",
   "execution_count": 5,
   "id": "82910733-4b43-4665-ae64-d24b6e7e2b41",
   "metadata": {},
   "outputs": [
    {
     "name": "stdout",
     "output_type": "stream",
     "text": [
      "[[11.54977283]\n",
      " [-6.58426965]]\n"
     ]
    }
   ],
   "source": [
    "from numpy import array, arctan2, sin, cos, eye\n",
    "from scipy.linalg import block_diag, norm\n",
    "\n",
    "# Time interval\n",
    "dt = 1                        # second\n",
    "\n",
    "# Initial position\n",
    "pgb_g = array([[2.3],         # meter\n",
    "               [3.7]])        # meter\n",
    "\n",
    "\n",
    "# Observations\n",
    "\n",
    "# Velocity\n",
    "vgb_b = array([[12.8],        # meter/second\n",
    "               [0]])          # meter/second\n",
    "\n",
    "# Specific force\n",
    "fgb_b = array([[1.8],         # meter/second^2\n",
    "               [0.2]])        # meter/second^2\n",
    "\n",
    "# Magnetometer\n",
    "mgb_b = array([[120],         # uGauss\n",
    "               [-180]])       # uGauss\n",
    "\n",
    "# Gyroscope\n",
    "ogb_b = array([[0],\n",
    "               [0],\n",
    "               [0.13]])       # radian/second\n",
    "\n",
    "\n",
    "# Local functions\n",
    "\n",
    "# Cross product matrix\n",
    "def crossm(a):\n",
    "    \n",
    "    return array([[ 0, -a[2, 0], a[1, 0]],\n",
    "                  [ a[2, 0], 0, -a[0, 0]],\n",
    "                  [-a[1, 0], a[0, 0], 0]])\n",
    "\n",
    "# Numerical integration\n",
    "def numint(C, a):\n",
    "    \n",
    "    sigma = norm(a)\n",
    "    B = crossm(a)\n",
    "    \n",
    "    # Compute C(t+dt)\n",
    "    C = C@(eye(3) + (sin(sigma)/sigma)*B + ((1 - cos(sigma))/sigma**2)*B**2)\n",
    "    \n",
    "    return C\n",
    "\n",
    "\n",
    "# Compute inital heading\n",
    "psi = arctan2(-mgb_b[1, 0], mgb_b[0, 0])\n",
    "\n",
    "# Compute Cb_g\n",
    "Cb_g = array([[cos(psi), sin(psi)],\n",
    "              [-sin(psi), cos(psi)]])\n",
    "\n",
    "# Numerical integration\n",
    "Cb_g_hat = numint(block_diag(Cb_g, 1), ogb_b*dt)\n",
    "Cb_g_hat = Cb_g_hat[0:2, 0:2]\n",
    "\n",
    "# Compute instantaneous acceleration in g-frame\n",
    "agb_g = Cb_g_hat@fgb_b\n",
    "\n",
    "# Compute velocity in g-frame\n",
    "vgb_g = Cb_g_hat@vgb_b\n",
    "\n",
    "# Compute position in g-frame\n",
    "pgb_g = pgb_g + vgb_g*dt + 1/2*agb_g*dt**2\n",
    "print(pgb_g)"
   ]
  }
 ],
 "metadata": {
  "kernelspec": {
   "display_name": "Python 3 (ipykernel)",
   "language": "python",
   "name": "python3"
  },
  "language_info": {
   "codemirror_mode": {
    "name": "ipython",
    "version": 3
   },
   "file_extension": ".py",
   "mimetype": "text/x-python",
   "name": "python",
   "nbconvert_exporter": "python",
   "pygments_lexer": "ipython3",
   "version": "3.10.8"
  }
 },
 "nbformat": 4,
 "nbformat_minor": 5
}
