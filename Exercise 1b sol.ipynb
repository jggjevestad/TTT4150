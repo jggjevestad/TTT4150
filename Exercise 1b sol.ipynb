{
 "cells": [
  {
   "cell_type": "markdown",
   "metadata": {},
   "source": [
    "# Exercise 1b - Coordinate Systems {-}\n",
    "\n",
    "Given the ellipsoidal coordinates of a point $P$:\n",
    "\\begin{align*}\n",
    "  \\phi_{P}&=63^{\\circ}22^{\\prime}16.98195^{\\prime\\prime}N\\\\\n",
    "  \\lambda_{P}&=10^{\\circ}19^{\\prime}08.96777^{\\prime\\prime}E\\\\\n",
    "  h_{P}&=317.742\n",
    "\\end{align*}\n",
    "\n",
    "Choose a sphere with radius $R=6378137$m as a model of the Earth and regard $\\{\\phi_{P},\\lambda_{P},h_{P}\\}$ as spherical coordinates.\n",
    "\n",
    "### Spherical Coordinates {-}\n",
    "a) Express $\\phi_{P}$ and $\\lambda_{P}$ in terms of degrees and radians"
   ]
  },
  {
   "cell_type": "code",
   "execution_count": 1,
   "metadata": {},
   "outputs": [
    {
     "name": "stdout",
     "output_type": "stream",
     "text": [
      "63.371383875 10.319157713888888\n",
      "1.1060393001639928 0.1801032781399321\n"
     ]
    }
   ],
   "source": [
    "from lib.navlib import deg2rad, rad2deg, dms2deg, dms2rad, rad2dms, geod2ECEF, ECEF2geod\n",
    "\n",
    "# Earth radius\n",
    "R = 6378137\n",
    "\n",
    "latP = dms2deg([63, 22, 16.98195])\n",
    "lonP = dms2deg([10, 19, 8.96777])\n",
    "print(latP, lonP)\n",
    "\n",
    "latP = dms2rad([63, 22, 16.98195])\n",
    "lonP = dms2rad([10, 19, 8.96777])\n",
    "print(latP, lonP)\n",
    "\n",
    "hP = 317.742"
   ]
  },
  {
   "cell_type": "markdown",
   "metadata": {},
   "source": [
    "b) How many degrees equals 1 radian?"
   ]
  },
  {
   "cell_type": "code",
   "execution_count": 2,
   "metadata": {},
   "outputs": [
    {
     "data": {
      "text/plain": [
       "57.29577951308232"
      ]
     },
     "execution_count": 2,
     "metadata": {},
     "output_type": "execute_result"
    }
   ],
   "source": [
    "rad2deg(1)"
   ]
  },
  {
   "cell_type": "markdown",
   "metadata": {},
   "source": [
    "c) How many radians equals 90 degrees?"
   ]
  },
  {
   "cell_type": "code",
   "execution_count": 3,
   "metadata": {},
   "outputs": [
    {
     "data": {
      "text/plain": [
       "1.5707963267948966"
      ]
     },
     "execution_count": 3,
     "metadata": {},
     "output_type": "execute_result"
    }
   ],
   "source": [
    "deg2rad(90)"
   ]
  },
  {
   "cell_type": "markdown",
   "metadata": {},
   "source": [
    "d) Compute the corresponding Earth Centered Earth Fixed (ECEF) coordinates $\\{X_{P},Y_{P},Z_{P}\\}$ in point $P$"
   ]
  },
  {
   "cell_type": "code",
   "execution_count": 4,
   "metadata": {},
   "outputs": [
    {
     "name": "stdout",
     "output_type": "stream",
     "text": [
      "[[2812617.73732883]\n",
      " [ 512110.83130299]\n",
      " [5701895.19860438]]\n"
     ]
    }
   ],
   "source": [
    "PS = geod2ECEF(R, R, latP, lonP, hP)\n",
    "print(PS)"
   ]
  },
  {
   "cell_type": "markdown",
   "metadata": {},
   "source": [
    "e) In which unit is the ECEF coordinates expressed? \\\n",
    "Meter"
   ]
  },
  {
   "cell_type": "markdown",
   "metadata": {},
   "source": [
    "Add 100 meter to the $X$-coordinate of point $P$. Rename the new point $P'$ with corresponding coordinates $\\{ X',Y,Z\\}$."
   ]
  },
  {
   "cell_type": "code",
   "execution_count": 5,
   "metadata": {},
   "outputs": [
    {
     "name": "stdout",
     "output_type": "stream",
     "text": [
      "[[2812717.73732883]\n",
      " [ 512110.83130299]\n",
      " [5701895.19860438]]\n",
      "63.370593876815576 10.318798720782466 361.8382290825248\n",
      "0.0007899981844316069 0.00035899310642380575 -44.09622908252476\n"
     ]
    }
   ],
   "source": [
    "PS[0] += 100\n",
    "print(PS)\n",
    "llh = ECEF2geod(R, R, PS)\n",
    "print(rad2deg(llh[0]), rad2deg(llh[1]), llh[2])\n",
    "print(rad2deg(latP - llh[0]), rad2deg(lonP - llh[1]), hP - llh[2])\n",
    "PS[0] -= 100"
   ]
  },
  {
   "cell_type": "code",
   "execution_count": 6,
   "metadata": {},
   "outputs": [
    {
     "name": "stdout",
     "output_type": "stream",
     "text": [
      "63.37124002078519 10.321129433167455 325.77153896540403\n",
      "0.0001438542148202752 -0.0019717192785666886 -8.029538965404015\n"
     ]
    }
   ],
   "source": [
    "PS[1] += 100\n",
    "llh = ECEF2geod(R, R, PS)\n",
    "print(rad2deg(llh[0]), rad2deg(llh[1]), llh[2])\n",
    "print(rad2deg(latP - llh[0]), rad2deg(lonP - llh[1]), hP - llh[2])\n",
    "PS[1] -= 100"
   ]
  },
  {
   "cell_type": "code",
   "execution_count": 7,
   "metadata": {},
   "outputs": [
    {
     "name": "stdout",
     "output_type": "stream",
     "text": [
      "63.371786479253515 10.319157713888888 407.13520687352866\n",
      "-0.00040260425350750214 1.5902773407317584e-15 -89.39320687352864\n"
     ]
    }
   ],
   "source": [
    "PS[2] += 100\n",
    "llh = ECEF2geod(R, R, PS)\n",
    "print(rad2deg(llh[0]), rad2deg(llh[1]), llh[2])\n",
    "print(rad2deg(latP - llh[0]), rad2deg(lonP - llh[1]), hP - llh[2])\n",
    "PS[2] -= 100"
   ]
  },
  {
   "cell_type": "markdown",
   "metadata": {},
   "source": [
    "### Ellipsoidal Coordinates {-}\n",
    "\n",
    "The GPS reference system uses an WGS84 ellipsoid with a semi-major axis a = 6 378 137 m and flattening f = 1/298.257223563.\n",
    "\n",
    "a) Compute the semi-minor axis (b)."
   ]
  },
  {
   "cell_type": "code",
   "execution_count": 8,
   "metadata": {},
   "outputs": [
    {
     "name": "stdout",
     "output_type": "stream",
     "text": [
      "6356752.314245179\n"
     ]
    }
   ],
   "source": [
    "a = 6378137; f = 1/298.257223563\n",
    "b = a*(1-f)\n",
    "print(b)"
   ]
  },
  {
   "cell_type": "markdown",
   "metadata": {},
   "source": [
    "b) Compute the first numerical eccentricity"
   ]
  },
  {
   "cell_type": "code",
   "execution_count": 9,
   "metadata": {},
   "outputs": [
    {
     "name": "stdout",
     "output_type": "stream",
     "text": [
      "0.006694379990141316\n"
     ]
    }
   ],
   "source": [
    "e2 = (a**2 - b**2)/a**2\n",
    "print(e2)"
   ]
  },
  {
   "cell_type": "markdown",
   "metadata": {},
   "source": [
    "c) Compute the difference between semi-major axis and semi-minor axis"
   ]
  },
  {
   "cell_type": "code",
   "execution_count": 10,
   "metadata": {},
   "outputs": [
    {
     "name": "stdout",
     "output_type": "stream",
     "text": [
      "21384.685754820704\n"
     ]
    }
   ],
   "source": [
    "print(a - b)"
   ]
  },
  {
   "cell_type": "markdown",
   "metadata": {},
   "source": [
    "e) Compute the corresponding Earth Centered Earth Fixed (ECEF) coordinates $\\{X_{P},Y_{P},Z_{P}\\}$ in point $P$"
   ]
  },
  {
   "cell_type": "code",
   "execution_count": 11,
   "metadata": {},
   "outputs": [
    {
     "name": "stdout",
     "output_type": "stream",
     "text": [
      "[[2820170.81055463]\n",
      " [ 513486.0663935 ]\n",
      " [5678935.95290192]]\n"
     ]
    }
   ],
   "source": [
    "PE = geod2ECEF(a, b, latP, lonP, hP)\n",
    "print(PE)"
   ]
  },
  {
   "cell_type": "markdown",
   "metadata": {},
   "source": [
    "f) How large is the difference between the ”ellipsoidal” ECEF coordinates of point P and the ”spherical” ECEF coordinates of point $P$?"
   ]
  },
  {
   "cell_type": "code",
   "execution_count": 12,
   "metadata": {},
   "outputs": [
    {
     "name": "stdout",
     "output_type": "stream",
     "text": [
      "[[-7553.0732258 ]\n",
      " [-1375.23509051]\n",
      " [22959.24570246]]\n"
     ]
    }
   ],
   "source": [
    "print(PS - PE)"
   ]
  },
  {
   "cell_type": "markdown",
   "metadata": {},
   "source": [
    "g) Show that a change in latitude of 1e−9 radians corresponds to a change in distance of 6 mm on the Earths surface."
   ]
  },
  {
   "cell_type": "code",
   "execution_count": 13,
   "metadata": {},
   "outputs": [
    {
     "name": "stdout",
     "output_type": "stream",
     "text": [
      "0.006378137000000001\n"
     ]
    }
   ],
   "source": [
    "print(a*1e-9)"
   ]
  }
 ],
 "metadata": {
  "kernelspec": {
   "display_name": "Python 3 (ipykernel)",
   "language": "python",
   "name": "python3"
  },
  "language_info": {
   "codemirror_mode": {
    "name": "ipython",
    "version": 3
   },
   "file_extension": ".py",
   "mimetype": "text/x-python",
   "name": "python",
   "nbconvert_exporter": "python",
   "pygments_lexer": "ipython3",
   "version": "3.10.8"
  }
 },
 "nbformat": 4,
 "nbformat_minor": 4
}
