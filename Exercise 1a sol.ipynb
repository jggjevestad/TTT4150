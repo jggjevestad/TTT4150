{
 "cells": [
  {
   "cell_type": "markdown",
   "metadata": {},
   "source": [
    "# Exercise 1a - Where are you? {-}\n",
    "\n",
    "You are navigating in a small area, where it is sufficiently accurate to neglect the curvature of the Earth. The local convention is to specify locations in coordinates (x,y), where x is distance North from an agreed-upon landmark, and y is the distance East.\n",
    " \n",
    "1. You are on a bearing of 0 degrees (North) from grid location (550m, 100m) and on a bearing of 90 degrees (East) from grid location (900m, -350m). Where are you?"
   ]
  },
  {
   "cell_type": "code",
   "execution_count": 1,
   "metadata": {},
   "outputs": [
    {
     "name": "stdout",
     "output_type": "stream",
     "text": [
      "[[900]\n",
      " [100]]\n"
     ]
    }
   ],
   "source": [
    "from numpy import array, sqrt, sin, cos, tan, pi, abs\n",
    "from numpy.linalg import norm\n",
    "from lib.navlib import rad2deg, deg2rad, arctan, arctan2\n",
    "\n",
    "p1 = array([[550],\n",
    "            [100]])\n",
    "\n",
    "p2 = array([[900],\n",
    "            [-350]])\n",
    "\n",
    "# Intersection\n",
    "px = array([p2[0],\n",
    "            p1[1]])\n",
    "\n",
    "print(px)"
   ]
  },
  {
   "cell_type": "markdown",
   "metadata": {},
   "source": [
    "2. You are 100m from a point located at grid location (550m, 100m) and 200m from a point located at grid location (700m, 150m). Where are you?"
   ]
  },
  {
   "cell_type": "code",
   "execution_count": 2,
   "metadata": {},
   "outputs": [
    {
     "name": "stdout",
     "output_type": "stream",
     "text": [
      "[[566.22498999]\n",
      " [  1.32503002]]\n",
      "[[503.77501001]\n",
      " [188.67496998]]\n"
     ]
    }
   ],
   "source": [
    "# Point p1\n",
    "p1 = array([[550],\n",
    "            [100]])\n",
    "\n",
    "# Point p2\n",
    "p2 = array([[700],\n",
    "            [150]])\n",
    "\n",
    "# Radius of p1\n",
    "r1 = 100\n",
    "\n",
    "# Radius of p2\n",
    "r2 = 200\n",
    "\n",
    "# Distance between p1 and p2\n",
    "d = norm(p2 - p1)\n",
    "l = (r1**2 - r2**2 + d**2)/(2*d)\n",
    "h = sqrt(r1**2 - l**2)\n",
    "\n",
    "# Intersection point 1\n",
    "px1 = array([p1[0] + l*(p2[0] - p1[0])/d + h*(p2[1] - p1[1])/d,\n",
    "             p1[1] + l*(p2[1] - p1[1])/d - h*(p2[0] - p1[0])/d])\n",
    "\n",
    "# Intersection point 2\n",
    "px2 = array([p1[0] + l*(p2[0] - p1[0])/d - h*(p2[1] - p1[1])/d,\n",
    "             p1[1] + l*(p2[1] - p1[1])/d + h*(p2[0] - p1[0])/d])\n",
    "\n",
    "print(px1)\n",
    "print(px2)"
   ]
  },
  {
   "cell_type": "markdown",
   "metadata": {},
   "source": [
    "3. You are 150m from a point located at grid location (550m, 100m), and on a bearing of 142 degrees (Southeast) from a point located at (1000m, -200m). Where are you?"
   ]
  },
  {
   "cell_type": "code",
   "execution_count": 3,
   "metadata": {},
   "outputs": [
    {
     "name": "stdout",
     "output_type": "stream",
     "text": [
      "[[688.80287998]\n",
      " [ 43.13383688]]\n",
      "[[461.24354911]\n",
      " [220.92267127]]\n"
     ]
    }
   ],
   "source": [
    "# Point p1\n",
    "p1 = array([[1000],\n",
    "            [-200]])\n",
    "\n",
    "# Point p2\n",
    "p2 = array([[550],\n",
    "            [100]])\n",
    "\n",
    "# Radius of p1\n",
    "az = deg2rad(142)\n",
    "\n",
    "# Radius of p2\n",
    "r = 150\n",
    "\n",
    "# Azimuth/Distance between p1 and p2\n",
    "az0 = arctan2(p2[1] - p1[1], p2[0] - p1[0])\n",
    "alpha = az - az0\n",
    "d = norm(p2 - p1)\n",
    "\n",
    "l1 = (d - sqrt(d**2 - (1 + tan(alpha)**2)*(d**2 - r**2)))/(1 + tan(alpha)**2)\n",
    "h1 = l1*tan(-alpha)\n",
    "\n",
    "l2 = (d + sqrt(d**2 - (1 + tan(alpha)**2)*(d**2 - r**2)))/(1 + tan(alpha)**2)\n",
    "h2 = l2*tan(alpha)\n",
    "\n",
    "# Intersection point 1\n",
    "px1 = array([p1[0] + l1*(p2[0] - p1[0])/d + h1*(p2[1] - p1[1])/d,\n",
    "             p1[1] + l1*(p2[1] - p1[1])/d - h1*(p2[0] - p1[0])/d])\n",
    "\n",
    "# Intersection point 2\n",
    "px2 = array([p1[0] + l2*(p2[0] - p1[0])/d - h2*(p2[1] - p1[1])/d,\n",
    "             p1[1] + l2*(p2[1] - p1[1])/d + h2*(p2[0] - p1[0])/d])\n",
    "\n",
    "print(px1)\n",
    "print(px2)"
   ]
  },
  {
   "cell_type": "markdown",
   "metadata": {},
   "source": [
    "4. A signal from grid location (550m, 100m) arrives 500ns (1ns = 1 billionth of a second) faster than a signal from location (100m, 250m), and at (550m, 100m) 400ns faster than a signal from location (-250m, -250m). Take the speed of light to be 0.3m/ns. Where are you?"
   ]
  },
  {
   "cell_type": "code",
   "execution_count": 5,
   "metadata": {},
   "outputs": [
    {
     "name": "stdout",
     "output_type": "stream",
     "text": [
      "[[1052.92259542]\n",
      " [ 753.78652495]]\n",
      "[[ 555.46808457]\n",
      " [-348.03394435]]\n"
     ]
    }
   ],
   "source": [
    "# Point p1\n",
    "p1 = array([[550],\n",
    "            [100]])\n",
    "\n",
    "# Point p2\n",
    "p2 = array([[100],\n",
    "            [250]])\n",
    "\n",
    "# Point p3\n",
    "p3 = array([[-250],\n",
    "            [-250]])\n",
    "\n",
    "# Observations (m)\n",
    "Delta1 = 500*0.3\n",
    "Delta2 = 400*0.3\n",
    "\n",
    "# Station distances\n",
    "d1 = norm(p2 - p1)\n",
    "d2 = norm(p3 - p1)\n",
    "\n",
    "# Hyperbola 1\n",
    "a1 = Delta1/2\n",
    "b1 = sqrt((d1/2)**2 - a1**2)\n",
    "\n",
    "# Hyperbola 2\n",
    "a2 = Delta2/2\n",
    "b2 = sqrt((d2/2)**2 - a2**2)\n",
    "\n",
    "# Intersection\n",
    "a = 1/a1**2 - b1**2/(b2**2 * a1**2)\n",
    "b = 2*d1/a2**2\n",
    "c = d1**2/a2**2 + b1**2/b2**2 - 1\n",
    "\n",
    "l = (-b + sqrt(b**2 - 4*a*c))/(2*a)\n",
    "h = sqrt(b1**2 * l**2/a1**2 - b1**2)\n",
    "\n",
    "# Intersection point 1\n",
    "px1 = array([p1[0] + l*(p2[0] - p1[0])/d1 + h*(p2[1] - p1[1])/d1,\n",
    "             p1[1] + l*(p2[1] - p1[1])/d1 - h*(p2[0] - p1[0])/d1])\n",
    "\n",
    "# Intersection point 2\n",
    "px2 = array([p1[0] + l*(p2[0] - p1[0])/d2 - h*(p2[1] - p1[1])/d2,\n",
    "             p1[1] + l*(p2[1] - p1[1])/d2 + h*(p2[0] - p1[0])/d2])\n",
    "\n",
    "print(px1)\n",
    "print(px2)"
   ]
  }
 ],
 "metadata": {
  "kernelspec": {
   "display_name": "Python 3 (ipykernel)",
   "language": "python",
   "name": "python3"
  },
  "language_info": {
   "codemirror_mode": {
    "name": "ipython",
    "version": 3
   },
   "file_extension": ".py",
   "mimetype": "text/x-python",
   "name": "python",
   "nbconvert_exporter": "python",
   "pygments_lexer": "ipython3",
   "version": "3.10.8"
  }
 },
 "nbformat": 4,
 "nbformat_minor": 4
}
