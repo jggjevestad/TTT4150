{
 "cells": [
  {
   "cell_type": "markdown",
   "metadata": {},
   "source": [
    "On January 25., 1995 an Norwegian research rocket was launched from Andøya Rocket Range carrying scientific equipment to study the aurora borealis over Svalbard. The rocket was mistaken as an potential nuclear attach, thus putting the Russian army on high alert.\n",
    "\n",
    "Assume the research rocket had a range of 550km and was launched with an azimuth of Az = 87.9 degrees."
   ]
  },
  {
   "cell_type": "code",
   "execution_count": 1,
   "metadata": {},
   "outputs": [],
   "source": [
    "from lib.navlib import rad2deg, deg2rad, dms2rad, rad2dms\n",
    "from numpy import array, sin, cos, arcsin, arccos, pi\n",
    "\n",
    "# Sphere radius (km)\n",
    "R = 6371\n",
    "\n",
    "# Andøya Rocket Range\n",
    "latAn = dms2rad([69, 17, 46])\n",
    "lonAn = dms2rad([16, 6, 29])\n",
    "\n",
    "b = pi/2 - latAn\n",
    "A = deg2rad(87.9)\n",
    "c = 550/R"
   ]
  },
  {
   "cell_type": "markdown",
   "metadata": {},
   "source": [
    "a) Compute the position of the landing site."
   ]
  },
  {
   "cell_type": "code",
   "execution_count": 2,
   "metadata": {},
   "outputs": [
    {
     "name": "stdout",
     "output_type": "stream",
     "text": [
      "(68, 54, 57.30966580659128)\n",
      "(29, 57, 58.11233202081809)\n"
     ]
    }
   ],
   "source": [
    "a = arccos(cos(b)*cos(c) + sin(b)*sin(c)*cos(A))\n",
    "\n",
    "latx = pi/2 - a\n",
    "print(rad2dms(latx))\n",
    "\n",
    "C = arcsin(sin(A)*sin(c)/sin(a))\n",
    "lonx = lonAn + C\n",
    "print(rad2dms(lonx))"
   ]
  },
  {
   "cell_type": "markdown",
   "metadata": {},
   "source": [
    "b) On which side of the Russian border is the landing site? \\\n",
    "The landing site is on the Norwegian side of the border"
   ]
  },
  {
   "cell_type": "markdown",
   "metadata": {},
   "source": [
    "c) How far from the Russian border is the landing site?"
   ]
  },
  {
   "cell_type": "code",
   "execution_count": 3,
   "metadata": {},
   "outputs": [
    {
     "name": "stdout",
     "output_type": "stream",
     "text": [
      "1.35 km\n"
     ]
    }
   ],
   "source": [
    "# Russian border\n",
    "lon0 = deg2rad(30)\n",
    "\n",
    "print(\"{:.2f}\".format((lon0 - lonx)*R*cos(latx)),\"km\")"
   ]
  }
 ],
 "metadata": {
  "kernelspec": {
   "display_name": "Python 3 (ipykernel)",
   "language": "python",
   "name": "python3"
  },
  "language_info": {
   "codemirror_mode": {
    "name": "ipython",
    "version": 3
   },
   "file_extension": ".py",
   "mimetype": "text/x-python",
   "name": "python",
   "nbconvert_exporter": "python",
   "pygments_lexer": "ipython3",
   "version": "3.10.8"
  }
 },
 "nbformat": 4,
 "nbformat_minor": 4
}
