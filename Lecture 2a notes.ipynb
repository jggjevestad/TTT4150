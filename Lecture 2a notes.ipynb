{
 "cells": [
  {
   "cell_type": "markdown",
   "metadata": {},
   "source": [
    "When SAS opened their first commercial flight between Copenhagen and Anchorage (Alaska) in 1957, they made a PR offensive stating that this flight crossed the North Pole. Critical voices claimed that this was just a vaste of fuel and time."
   ]
  },
  {
   "cell_type": "code",
   "execution_count": 1,
   "metadata": {},
   "outputs": [],
   "source": [
    "from lib.navlib import rad2deg, deg2rad, dms2rad, rad2dms\n",
    "from numpy import sin, cos, arcsin, arccos, pi\n",
    "\n",
    "# Sphere radius (km)\n",
    "R = 6371\n",
    "\n",
    "# Copenhagen (Denmark)\n",
    "latCo = dms2rad([55, 41, 0])\n",
    "lonCo = dms2rad([12, 34, 0])\n",
    "\n",
    "# Anchorage (Alaska US)\n",
    "latAn = dms2rad([61, 12, 0])\n",
    "lonAn = -dms2rad([149, 53, 0])\n",
    "\n",
    "a = pi/2 - latCo\n",
    "b = pi/2 - latAn\n",
    "C = abs(lonAn - lonCo)"
   ]
  },
  {
   "cell_type": "markdown",
   "metadata": {},
   "source": [
    "a) How long is the direct route between Copenhagen and Anchorage?"
   ]
  },
  {
   "cell_type": "code",
   "execution_count": 2,
   "metadata": {},
   "outputs": [
    {
     "name": "stdout",
     "output_type": "stream",
     "text": [
      "6928 km\n"
     ]
    }
   ],
   "source": [
    "c = arccos(cos(a)*cos(b) + sin(a)*sin(b)*cos(C))\n",
    "d1 = c*R\n",
    "print(\"{:.0f}\".format(d1),\"km\")"
   ]
  },
  {
   "cell_type": "markdown",
   "metadata": {},
   "source": [
    "b) How much longer is the route involving the North Pole?"
   ]
  },
  {
   "cell_type": "code",
   "execution_count": 3,
   "metadata": {},
   "outputs": [
    {
     "name": "stdout",
     "output_type": "stream",
     "text": [
      "91 km\n"
     ]
    }
   ],
   "source": [
    "d2 = (a + b)*R\n",
    "print(\"{:.0f}\".format(d2 - d1),\"km\")"
   ]
  },
  {
   "cell_type": "markdown",
   "metadata": {},
   "source": [
    "c) Compute the azimuth of the aircraft when it leaves Copenhagen."
   ]
  },
  {
   "cell_type": "code",
   "execution_count": 4,
   "metadata": {},
   "outputs": [
    {
     "name": "stdout",
     "output_type": "stream",
     "text": [
      "350.6 degrees\n"
     ]
    }
   ],
   "source": [
    "B = arcsin(sin(C)*sin(b)/sin(c))\n",
    "\n",
    "az2 = 2*pi - B\n",
    "print(\"{:.1f}\".format(rad2deg(az2)),\"degrees\")"
   ]
  },
  {
   "cell_type": "markdown",
   "metadata": {},
   "source": [
    "d) Compute the azimuth of the aircraft when it arrives in Anchorage."
   ]
  },
  {
   "cell_type": "code",
   "execution_count": 5,
   "metadata": {},
   "outputs": [
    {
     "name": "stdout",
     "output_type": "stream",
     "text": [
      "191.1 degrees\n"
     ]
    }
   ],
   "source": [
    "A = arcsin(sin(C)*sin(a)/sin(c))\n",
    "\n",
    "az1 = A + pi\n",
    "print(\"{:.1f}\".format(rad2deg(az1)),\"degrees\")"
   ]
  },
  {
   "cell_type": "markdown",
   "metadata": {},
   "source": [
    "e) Compute the maximum latitude of the direct route."
   ]
  },
  {
   "cell_type": "code",
   "execution_count": 6,
   "metadata": {},
   "outputs": [
    {
     "name": "stdout",
     "output_type": "stream",
     "text": [
      "(84, 41, 34.004798979057114)\n"
     ]
    }
   ],
   "source": [
    "x = arcsin(sin(a)*sin(B))\n",
    "\n",
    "latx = pi/2 - x\n",
    "print(rad2dms(latx))"
   ]
  }
 ],
 "metadata": {
  "kernelspec": {
   "display_name": "Python 3 (ipykernel)",
   "language": "python",
   "name": "python3"
  },
  "language_info": {
   "codemirror_mode": {
    "name": "ipython",
    "version": 3
   },
   "file_extension": ".py",
   "mimetype": "text/x-python",
   "name": "python",
   "nbconvert_exporter": "python",
   "pygments_lexer": "ipython3",
   "version": "3.10.8"
  }
 },
 "nbformat": 4,
 "nbformat_minor": 4
}
