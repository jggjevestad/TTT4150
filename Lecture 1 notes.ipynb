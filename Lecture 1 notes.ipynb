{
 "cells": [
  {
   "cell_type": "code",
   "execution_count": 1,
   "metadata": {},
   "outputs": [
    {
     "name": "stdout",
     "output_type": "stream",
     "text": [
      "63.41743888888889\n"
     ]
    }
   ],
   "source": [
    "from lib.navlib import dms2rad, dms2deg, deg2dms, geod2ECEF\n",
    "from numpy.linalg import norm\n",
    "\n",
    "lat = dms2deg([63, 25, 2.78])\n",
    "print(lat)"
   ]
  },
  {
   "cell_type": "code",
   "execution_count": 2,
   "metadata": {},
   "outputs": [
    {
     "name": "stdout",
     "output_type": "stream",
     "text": [
      "(63, 25, 2.779999999998495)\n"
     ]
    }
   ],
   "source": [
    "lat = deg2dms(lat)\n",
    "print(lat)"
   ]
  },
  {
   "cell_type": "code",
   "execution_count": 3,
   "metadata": {},
   "outputs": [
    {
     "name": "stdout",
     "output_type": "stream",
     "text": [
      "[[2804110.84322024]\n",
      " [ 514950.11338924]\n",
      " [5697649.83649005]]\n"
     ]
    }
   ],
   "source": [
    "R = 6371e3\n",
    "lat = dms2rad([63, 25, 2.78])\n",
    "lon = dms2rad([10, 24, 21.31])\n",
    "h = 140\n",
    "\n",
    "P = geod2ECEF(R, R, lat, lon, h)\n",
    "print(P)"
   ]
  },
  {
   "cell_type": "markdown",
   "metadata": {},
   "source": [
    "To verify that the implementation of *geod2ECEF*, one can e.g. compute the L2 norm of vector P and check that it equals (R+h)."
   ]
  },
  {
   "cell_type": "code",
   "execution_count": 4,
   "metadata": {},
   "outputs": [
    {
     "data": {
      "text/plain": [
       "6371139.999999999"
      ]
     },
     "execution_count": 4,
     "metadata": {},
     "output_type": "execute_result"
    }
   ],
   "source": [
    "norm(P)"
   ]
  }
 ],
 "metadata": {
  "kernelspec": {
   "display_name": "Python 3 (ipykernel)",
   "language": "python",
   "name": "python3"
  },
  "language_info": {
   "codemirror_mode": {
    "name": "ipython",
    "version": 3
   },
   "file_extension": ".py",
   "mimetype": "text/x-python",
   "name": "python",
   "nbconvert_exporter": "python",
   "pygments_lexer": "ipython3",
   "version": "3.10.8"
  }
 },
 "nbformat": 4,
 "nbformat_minor": 4
}
